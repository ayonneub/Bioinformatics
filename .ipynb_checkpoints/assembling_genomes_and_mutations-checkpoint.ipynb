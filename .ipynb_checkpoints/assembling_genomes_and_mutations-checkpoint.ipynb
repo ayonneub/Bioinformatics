{
 "cells": [
  {
   "cell_type": "code",
   "execution_count": 6,
   "id": "9ab7abc2",
   "metadata": {},
   "outputs": [],
   "source": [
    "import json"
   ]
  },
  {
   "cell_type": "code",
   "execution_count": 10,
   "id": "643e722d",
   "metadata": {},
   "outputs": [
    {
     "ename": "SyntaxError",
     "evalue": "(unicode error) 'unicodeescape' codec can't decode bytes in position 2-3: truncated \\UXXXXXXXX escape (4213316720.py, line 2)",
     "output_type": "error",
     "traceback": [
      "\u001b[1;36m  Cell \u001b[1;32mIn[10], line 2\u001b[1;36m\u001b[0m\n\u001b[1;33m    df = pd.read_csv(\"C:\\Users\\CTech\\Downloads\\ref_reads_w_error.txt\")\u001b[0m\n\u001b[1;37m                                                                     ^\u001b[0m\n\u001b[1;31mSyntaxError\u001b[0m\u001b[1;31m:\u001b[0m (unicode error) 'unicodeescape' codec can't decode bytes in position 2-3: truncated \\UXXXXXXXX escape\n"
     ]
    }
   ],
   "source": [
    "import pandas as pd\n",
    "df = pd.read_csv(\"C:\\Users\\CTech\\Downloads\\ref_reads_w_error.txt\")\n",
    "df     # with this command you can see your file"
   ]
  },
  {
   "cell_type": "code",
   "execution_count": null,
   "id": "baf3ad0e",
   "metadata": {},
   "outputs": [],
   "source": [
    "def debruijnize(reads):\n",
    "    nodes = set()\n",
    "    not_starts = set()\n",
    "    edges = []\n",
    "    for r in reads:\n",
    "        r1 = r[:-1]\n",
    "        r2 = r[1:]\n",
    "        nodes.add(r1)\n",
    "        nodes.add(r2)\n",
    "        edges.append((r1,r2))\n",
    "        not_starts.add(r2)\n",
    "    return (nodes,edges,list(nodes-not_starts))\n",
    "\n",
    "\n",
    "def build_k_mer(str,k):\n",
    "    return [str[i:k+i] for i in range(0,len(str)-k+1)]\n",
    "\n",
    "\n",
    "def make_node_edge_map(edges):\n",
    "    node_edge_map = {}\n",
    "    for e in edges:\n",
    "        n = e[0]\n",
    "        if n in node_edge_map:\n",
    "            node_edge_map[n].append(e[1])\n",
    "        else:\n",
    "            node_edge_map[n] = [e[1]]\n",
    "    return node_edge_map\n",
    "\n",
    "\n",
    "def eulerian_trail(m,v):\n",
    "    nemap = m\n",
    "    result_trail = []\n",
    "    start = v\n",
    "    result_trail.append(start)\n",
    "    while(True):\n",
    "        trail = []\n",
    "        previous = start\n",
    "        while(True):\n",
    "\n",
    "            if(previous not in nemap):\n",
    "                break\n",
    "            next = nemap[previous].pop()\n",
    "            if(len(nemap[previous]) == 0):\n",
    "                nemap.pop(previous,None)\n",
    "            trail.append(next)\n",
    "            if(next == start):\n",
    "                break;\n",
    "            previous = next\n",
    "        # completed one trail\n",
    "        print(trail)\n",
    "        index = result_trail.index(start)\n",
    "        result_trail = result_trail[0:index+1] + trail + result_trail[index+1:len(result_trail)]\n",
    "        # choose new start\n",
    "        if(len(nemap)==0):\n",
    "          break\n",
    "        found_new_start = False\n",
    "        for n in result_trail:\n",
    "            if n in nemap:\n",
    "                start = n\n",
    "                found_new_start = True\n",
    "                break # from for loop\n",
    "        if not found_new_start:\n",
    "            print(\"error\")\n",
    "            print(\"result_trail\",result_trail)\n",
    "            print(nemap)\n",
    "            break\n",
    "    return result_trail\n",
    "def visualize_debruijn(G):\n",
    "    nodes = G[0]\n",
    "    edges = G[1]\n",
    "    dot_str= 'digraph \"DeBruijn graph\" {\\n '\n",
    "    for node in nodes:\n",
    "        dot_str += '    %s [label=\"%s\"] ;\\n' %(node,node)\n",
    "    for src,dst in edges:\n",
    "        dot_str += '    %s->%s;\\n' %(src,dst)\n",
    "    return dot_str + '}\\n'\n",
    "\n",
    "\n",
    "def assemble_trail(trail):\n",
    "    if len(trail) == 0:\n",
    "        return \"\"\n",
    "    result = trail[0][:-1]\n",
    "    for node in trail:\n",
    "        result += node[-1]\n",
    "    return result\n",
    "def test_assembly_debruijn(t,k):\n",
    "    reads = build_k_mer(t,k)\n",
    "    G = debruijnize(reads)\n",
    "    v = visualize_debruijn(G)\n",
    "    nemap = make_node_edge_map(G[1])\n",
    "    print(G)\n",
    "    print(v)\n",
    "    start = next(iter(G[2])) if (len(G[2]) > 0) else next(iter(G[0]))\n",
    "    trail = eulerian_trail(nemap,start)\n",
    "    return assemble_trail(trail)"
   ]
  },
  {
   "cell_type": "code",
   "execution_count": null,
   "id": "13f92b77",
   "metadata": {},
   "outputs": [],
   "source": [
    "reads = build_k_mer(\"ATCGTTGCGCGACCG\",4)\n",
    "print(reads)"
   ]
  },
  {
   "cell_type": "code",
   "execution_count": null,
   "id": "a3fd96b9",
   "metadata": {},
   "outputs": [],
   "source": [
    "G = debruijnize(reads)\n",
    "print(G)"
   ]
  },
  {
   "cell_type": "code",
   "execution_count": null,
   "id": "6665811d",
   "metadata": {},
   "outputs": [],
   "source": [
    "m = make_node_edge_map(G[1])\n",
    "print(m)"
   ]
  },
  {
   "cell_type": "code",
   "execution_count": null,
   "id": "00dc8c04",
   "metadata": {},
   "outputs": [],
   "source": [
    "start = G[2][0] if (len(G[2]) > 0) else G[0][0]\n",
    "print (m)"
   ]
  },
  {
   "cell_type": "code",
   "execution_count": null,
   "id": "3cc1354c",
   "metadata": {},
   "outputs": [],
   "source": [
    "t = eulerian_trail(m,start)\n",
    "print(t)"
   ]
  },
  {
   "cell_type": "code",
   "execution_count": null,
   "id": "b73fa15c",
   "metadata": {},
   "outputs": [],
   "source": [
    "assemble_trail(t)"
   ]
  }
 ],
 "metadata": {
  "kernelspec": {
   "display_name": "Python 3 (ipykernel)",
   "language": "python",
   "name": "python3"
  },
  "language_info": {
   "codemirror_mode": {
    "name": "ipython",
    "version": 3
   },
   "file_extension": ".py",
   "mimetype": "text/x-python",
   "name": "python",
   "nbconvert_exporter": "python",
   "pygments_lexer": "ipython3",
   "version": "3.11.3"
  }
 },
 "nbformat": 4,
 "nbformat_minor": 5
}
